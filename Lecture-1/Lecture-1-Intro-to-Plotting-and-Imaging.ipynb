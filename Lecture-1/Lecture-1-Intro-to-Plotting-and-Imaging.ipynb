{
 "cells": [
  {
   "cell_type": "markdown",
   "metadata": {},
   "source": [
    "# Introduction to Plotting and Imaging Libraries"
   ]
  },
  {
   "cell_type": "markdown",
   "metadata": {},
   "source": [
    "> Further Reading: https://matplotlib.org/index.html"
   ]
  },
  {
   "cell_type": "code",
   "execution_count": null,
   "metadata": {},
   "outputs": [],
   "source": [
    "import numpy as np\n",
    "from matplotlib import pyplot as plt\n",
    "\n",
    "# to make sure the plots show up inside the jupyter notebook\n",
    "%matplotlib inline"
   ]
  },
  {
   "cell_type": "code",
   "execution_count": null,
   "metadata": {},
   "outputs": [],
   "source": [
    "plt.plot(np.arange(0, 10, 1).tolist())"
   ]
  },
  {
   "cell_type": "code",
   "execution_count": null,
   "metadata": {},
   "outputs": [],
   "source": [
    "plt.plot(np.random.randint(0, 10, 10).tolist())"
   ]
  },
  {
   "cell_type": "markdown",
   "metadata": {},
   "source": [
    "```python\n",
    "The optional parameter *fmt* is a convenient way for defining basic\n",
    "formatting like color, marker and linestyle. It's a shortcut string\n",
    "notation described in the *Notes* section below.\n",
    "\n",
    ">>> plot(x, y)        # plot x and y using default line style and color\n",
    ">>> plot(x, y, 'bo')  # plot x and y using blue circle markers\n",
    ">>> plot(y)           # plot y using x as index array 0..N-1\n",
    ">>> plot(y, 'r+')     # ditto, but with red plusses\n",
    "```"
   ]
  },
  {
   "cell_type": "code",
   "execution_count": null,
   "metadata": {},
   "outputs": [],
   "source": [
    "plt.plot(np.random.randint(0, 10, 10).tolist(), '-', color='r')"
   ]
  },
  {
   "cell_type": "code",
   "execution_count": null,
   "metadata": {},
   "outputs": [],
   "source": [
    "plt.plot(np.random.randint(0, 10, 10).tolist(), 'b*')"
   ]
  },
  {
   "cell_type": "code",
   "execution_count": null,
   "metadata": {},
   "outputs": [],
   "source": [
    "x = np.arange(0, 10, 0.1)\n",
    "\n",
    "y_sin = np.sin(x)\n",
    "y_cos = np.cos(x)\n",
    "\n",
    "plt.plot(x, y_sin, label='Sine')\n",
    "plt.plot(x, y_cos, label='Cosine')\n",
    "\n",
    "plt.xlabel('x')\n",
    "plt.ylabel('F(x)')\n",
    "\n",
    "plt.legend()"
   ]
  },
  {
   "cell_type": "code",
   "execution_count": null,
   "metadata": {},
   "outputs": [],
   "source": [
    "# Create Figure and Subplots\n",
    "fig, (ax1, ax2) = plt.subplots(1,2, figsize=(12,4), sharey=True, dpi=120)\n",
    "\n",
    "# Plot\n",
    "ax1.plot(x, y_sin, 'go')  # greendots\n",
    "ax2.plot(x, y_cos, 'b*')  # bluestart\n",
    "\n",
    "# Title, X and Y labels, X and Y Lim\n",
    "ax1.set_title('Sine Wave'); ax2.set_title('Cosine Wave')\n",
    "ax1.set_xlabel('x');  ax2.set_xlabel('x')  # x label\n",
    "ax1.set_ylabel('Sin(x)');  ax2.set_ylabel('Cos(x)')  # y label\n",
    "\n",
    "ax1.set_xlim(0, 10) ;  ax2.set_xlim(0, 10)   # x axis limits\n",
    "ax1.set_ylim(-1, 1);  ax2.set_ylim(-1, 1)    # y axis limits\n",
    "\n",
    "# ax2.yaxis.set_ticks_position('none') \n",
    "plt.tight_layout()\n",
    "plt.show()"
   ]
  },
  {
   "cell_type": "code",
   "execution_count": null,
   "metadata": {},
   "outputs": [],
   "source": [
    "# https://www.machinelearningplus.com/plots/matplotlib-tutorial-complete-guide-python-plot-examples/\n",
    "from matplotlib.ticker import FuncFormatter\n",
    "\n",
    "def rad_to_degrees(x, pos):\n",
    "    'converts radians to degrees'\n",
    "    return round(x * 57.2985, 2)\n",
    "\n",
    "plt.figure(figsize=(10,5), dpi=100)\n",
    "\n",
    "# Add more points for better resolution\n",
    "X = np.linspace(0,2*np.pi,1000)\n",
    "\n",
    "# Plot sine and cosine waves with labels\n",
    "plt.plot(X, np.sin(X), '--', label='Sine')\n",
    "plt.plot(X, np.cos(X), label='Cosine')\n",
    "\n",
    "# 1. Adjust x axis Ticks\n",
    "plt.xticks(ticks=np.arange(0, 440/57.2985, 90/57.2985), fontsize=12, rotation=30, ha='center', va='top')  # 1 radian = 57.2985 degrees\n",
    "\n",
    "# 2. Tick Parameters\n",
    "plt.tick_params(axis='both',bottom=True, top=True, left=True, right=True, direction='in', which='major', grid_color='blue')\n",
    "\n",
    "# 3. Format tick labels to convert radians to degrees\n",
    "formatter = FuncFormatter(rad_to_degrees)\n",
    "plt.gca().xaxis.set_major_formatter(formatter)\n",
    "\n",
    "plt.grid(linestyle='--', linewidth=0.5, alpha=0.15)\n",
    "plt.title('Sine and Cosine Waves\\n(Notice the ticks are on all 4 sides pointing inwards, radians converted to degrees in x axis)', fontsize=14)\n",
    "plt.legend()\n",
    "\n",
    "# Change the style of the plot\n",
    "plt.style.use('bmh')\n",
    "\n",
    "plt.show()"
   ]
  },
  {
   "cell_type": "code",
   "execution_count": null,
   "metadata": {},
   "outputs": [],
   "source": []
  }
 ],
 "metadata": {
  "kernelspec": {
   "display_name": "Python 3",
   "language": "python",
   "name": "python3"
  },
  "language_info": {
   "codemirror_mode": {
    "name": "ipython",
    "version": 3
   },
   "file_extension": ".py",
   "mimetype": "text/x-python",
   "name": "python",
   "nbconvert_exporter": "python",
   "pygments_lexer": "ipython3",
   "version": "3.6.9"
  }
 },
 "nbformat": 4,
 "nbformat_minor": 4
}
