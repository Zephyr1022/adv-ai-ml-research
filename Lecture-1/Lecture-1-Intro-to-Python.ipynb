{
 "cells": [
  {
   "cell_type": "markdown",
   "metadata": {},
   "source": [
    "# Lecture 1 - Introduction to Python"
   ]
  },
  {
   "cell_type": "markdown",
   "metadata": {},
   "source": [
    "> Further Reading\n",
    "> https://diveintopython3.problemsolving.io/"
   ]
  },
  {
   "cell_type": "markdown",
   "metadata": {},
   "source": [
    "## Native Datatypes and Operations"
   ]
  },
  {
   "cell_type": "markdown",
   "metadata": {},
   "source": [
    "### Boolean Dtype and Truth Statements"
   ]
  },
  {
   "cell_type": "markdown",
   "metadata": {},
   "source": [
    "Booleans are either `True` or `False` and are used commonly to check truth statements."
   ]
  },
  {
   "cell_type": "code",
   "execution_count": 1,
   "metadata": {},
   "outputs": [
    {
     "name": "stdout",
     "output_type": "stream",
     "text": [
      "😀\n"
     ]
    }
   ],
   "source": [
    "mood = 'happy'\n",
    "if mood == 'happy':\n",
    "    print(\"\\U0001f600\")\n",
    "elif mood == 'rofl':\n",
    "    print(\"\\U0001F923\")"
   ]
  },
  {
   "cell_type": "markdown",
   "metadata": {},
   "source": [
    "### Strings and String Ops"
   ]
  },
  {
   "cell_type": "code",
   "execution_count": 2,
   "metadata": {},
   "outputs": [
    {
     "name": "stdout",
     "output_type": "stream",
     "text": [
      "Hi, hope you're doing well\n"
     ]
    }
   ],
   "source": [
    "h = \"Hi, hope you're doing well\"\n",
    "print(h)"
   ]
  },
  {
   "cell_type": "code",
   "execution_count": 3,
   "metadata": {},
   "outputs": [
    {
     "name": "stdout",
     "output_type": "stream",
     "text": [
      "I also like multiline print statements.\n",
      "They let me share ideas better and I don't\n",
      "have to worry about newline characters\n"
     ]
    }
   ],
   "source": [
    "print('''I also like multiline print statements.\n",
    "They let me share ideas better and I don't\n",
    "have to worry about newline characters''')"
   ]
  },
  {
   "cell_type": "code",
   "execution_count": 4,
   "metadata": {},
   "outputs": [
    {
     "name": "stdout",
     "output_type": "stream",
     "text": [
      "string1 + string2 will give you helloutsa\n",
      "(' ').join([string1, string2])) will give you hello utsa\n"
     ]
    }
   ],
   "source": [
    "string1 = 'hello'\n",
    "string2 = 'utsa'\n",
    "\n",
    "print('string1 + string2 will give you {}'.format(string1 + string2))\n",
    "print('(\\' \\').join([string1, string2])) will give you {}'.format((' ').join([string1, string2])))"
   ]
  },
  {
   "cell_type": "markdown",
   "metadata": {},
   "source": [
    "> Read more about string formatting here: https://pyformat.info/"
   ]
  },
  {
   "cell_type": "markdown",
   "metadata": {},
   "source": [
    "### Lists and List Ops"
   ]
  },
  {
   "cell_type": "code",
   "execution_count": 5,
   "metadata": {},
   "outputs": [
    {
     "name": "stdout",
     "output_type": "stream",
     "text": [
      "IS7033\n",
      "is\n",
      "going\n",
      "to\n",
      "be\n",
      "a\n",
      "lot\n",
      "of\n",
      "fun\n",
      "😀\n"
     ]
    }
   ],
   "source": [
    "iknowright = ['IS7033', 'is', 'going', 'to', 'be', 'a', 'lot', 'of', 'fun', '\\U0001F600']\n",
    "# Looping through lists using `for`.\n",
    "\n",
    "for each_element in iknowright:\n",
    "    print(each_element)"
   ]
  },
  {
   "cell_type": "code",
   "execution_count": 6,
   "metadata": {},
   "outputs": [
    {
     "data": {
      "text/plain": [
       "['IS7033', 'IS', 'GOING', 'TO', 'BE', 'A', 'LOT', 'OF', 'FUN', '😀']"
      ]
     },
     "execution_count": 6,
     "metadata": {},
     "output_type": "execute_result"
    }
   ],
   "source": [
    "# list comprehension\n",
    "\n",
    "[each_element.upper() for each_element in iknowright]"
   ]
  },
  {
   "cell_type": "markdown",
   "metadata": {},
   "source": [
    "> `.upper()` capitalizes the string"
   ]
  },
  {
   "cell_type": "markdown",
   "metadata": {},
   "source": [
    "### Finding the datatype"
   ]
  },
  {
   "cell_type": "code",
   "execution_count": 7,
   "metadata": {},
   "outputs": [
    {
     "data": {
      "text/plain": [
       "[str, str, str, str, str, str, str, str, str, str]"
      ]
     },
     "execution_count": 7,
     "metadata": {},
     "output_type": "execute_result"
    }
   ],
   "source": [
    "[type(each_element) for each_element in iknowright]"
   ]
  },
  {
   "cell_type": "markdown",
   "metadata": {},
   "source": [
    "> `type()` returns the datatype of the variable or data"
   ]
  },
  {
   "cell_type": "markdown",
   "metadata": {},
   "source": [
    "### Functions"
   ]
  },
  {
   "cell_type": "code",
   "execution_count": 8,
   "metadata": {},
   "outputs": [],
   "source": [
    "def find_type_of_elements_in_list(input_list):\n",
    "    return [type(each_element) for each_element in input_list]"
   ]
  },
  {
   "cell_type": "code",
   "execution_count": 9,
   "metadata": {},
   "outputs": [
    {
     "data": {
      "text/plain": [
       "[str, str, str, str, str, str, str, str, str, str]"
      ]
     },
     "execution_count": 9,
     "metadata": {},
     "output_type": "execute_result"
    }
   ],
   "source": [
    "find_type_of_elements_in_list(iknowright)"
   ]
  },
  {
   "cell_type": "code",
   "execution_count": 10,
   "metadata": {},
   "outputs": [],
   "source": [
    "newlist = ['welcome', 'class', 'of', 2020]"
   ]
  },
  {
   "cell_type": "code",
   "execution_count": 11,
   "metadata": {},
   "outputs": [
    {
     "data": {
      "text/plain": [
       "[str, str, str, int]"
      ]
     },
     "execution_count": 11,
     "metadata": {},
     "output_type": "execute_result"
    }
   ],
   "source": [
    "find_type_of_elements_in_list(newlist)"
   ]
  },
  {
   "cell_type": "markdown",
   "metadata": {},
   "source": [
    "### Dictionaries"
   ]
  },
  {
   "cell_type": "code",
   "execution_count": 12,
   "metadata": {},
   "outputs": [],
   "source": [
    "avengers = {\n",
    "    \"Iron Man\": \"Robert Downey Jr.\",\n",
    "    \"Black Widow\": \"Scarlett Johansson\",\n",
    "    \"Captian America\": \"Chris Evans\",\n",
    "    \"Thor\": \"Chris Hemsworth\",\n",
    "    \"Hulk\": \"Mark Ruffalo\",\n",
    "    \"Clint Barton\": \"Jeremey Renner\",\n",
    "    \"Loki\": \"Tom Hiddleston\",\n",
    "    \"Nick Fury\": \"Samuel L. Jackson\"\n",
    "}"
   ]
  },
  {
   "cell_type": "code",
   "execution_count": 13,
   "metadata": {},
   "outputs": [
    {
     "data": {
      "text/plain": [
       "dict_keys(['Iron Man', 'Black Widow', 'Captian America', 'Thor', 'Hulk', 'Clint Barton', 'Loki', 'Nick Fury'])"
      ]
     },
     "execution_count": 13,
     "metadata": {},
     "output_type": "execute_result"
    }
   ],
   "source": [
    "avengers.keys()"
   ]
  },
  {
   "cell_type": "code",
   "execution_count": 14,
   "metadata": {},
   "outputs": [
    {
     "data": {
      "text/plain": [
       "dict_values(['Robert Downey Jr.', 'Scarlett Johansson', 'Chris Evans', 'Chris Hemsworth', 'Mark Ruffalo', 'Jeremey Renner', 'Tom Hiddleston', 'Samuel L. Jackson'])"
      ]
     },
     "execution_count": 14,
     "metadata": {},
     "output_type": "execute_result"
    }
   ],
   "source": [
    "avengers.values()"
   ]
  },
  {
   "cell_type": "code",
   "execution_count": 15,
   "metadata": {},
   "outputs": [
    {
     "name": "stdout",
     "output_type": "stream",
     "text": [
      "Avenger: Iron Man, Actor: Robert Downey Jr.\n",
      "Avenger: Black Widow, Actor: Scarlett Johansson\n",
      "Avenger: Captian America, Actor: Chris Evans\n",
      "Avenger: Thor, Actor: Chris Hemsworth\n",
      "Avenger: Hulk, Actor: Mark Ruffalo\n",
      "Avenger: Clint Barton, Actor: Jeremey Renner\n",
      "Avenger: Loki, Actor: Tom Hiddleston\n",
      "Avenger: Nick Fury, Actor: Samuel L. Jackson\n"
     ]
    }
   ],
   "source": [
    "for avenger, actor in avengers.items():\n",
    "    print(\"Avenger: {}, Actor: {}\".format(avenger, actor))"
   ]
  },
  {
   "cell_type": "code",
   "execution_count": 16,
   "metadata": {},
   "outputs": [
    {
     "name": "stdout",
     "output_type": "stream",
     "text": [
      "Hey Stark, try lifting my hammer 😀\n"
     ]
    }
   ],
   "source": [
    "if \"Iron Man\" in avengers.keys() and \"Thor\" in avengers.keys():\n",
    "    print(\"Hey Stark, try lifting my hammer 😀\")"
   ]
  },
  {
   "cell_type": "markdown",
   "metadata": {},
   "source": [
    "### Range Function"
   ]
  },
  {
   "cell_type": "code",
   "execution_count": 17,
   "metadata": {},
   "outputs": [
    {
     "data": {
      "text/plain": [
       "range(0, 10)"
      ]
     },
     "execution_count": 17,
     "metadata": {},
     "output_type": "execute_result"
    }
   ],
   "source": [
    "range(10)"
   ]
  },
  {
   "cell_type": "code",
   "execution_count": 18,
   "metadata": {},
   "outputs": [
    {
     "data": {
      "text/plain": [
       "[0, 1, 2, 3, 4, 5, 6, 7, 8, 9]"
      ]
     },
     "execution_count": 18,
     "metadata": {},
     "output_type": "execute_result"
    }
   ],
   "source": [
    "list(range(10))"
   ]
  },
  {
   "cell_type": "code",
   "execution_count": 19,
   "metadata": {},
   "outputs": [
    {
     "name": "stdout",
     "output_type": "stream",
     "text": [
      "0\n",
      "1\n",
      "4\n",
      "9\n",
      "16\n",
      "25\n",
      "36\n",
      "49\n",
      "64\n",
      "81\n"
     ]
    }
   ],
   "source": [
    "for i in range(10):\n",
    "    print(i**2)"
   ]
  },
  {
   "cell_type": "code",
   "execution_count": 20,
   "metadata": {},
   "outputs": [
    {
     "data": {
      "text/plain": [
       "[0, 1, 4, 9, 16, 25, 36, 49, 64, 81]"
      ]
     },
     "execution_count": 20,
     "metadata": {},
     "output_type": "execute_result"
    }
   ],
   "source": [
    "[i**2 for i in range(10)]"
   ]
  },
  {
   "cell_type": "code",
   "execution_count": 21,
   "metadata": {},
   "outputs": [],
   "source": [
    "random_list = [4, 0, 64, 81, 49, 1, 16, 9, 25, 36]"
   ]
  },
  {
   "cell_type": "markdown",
   "metadata": {},
   "source": [
    "### Sort Function"
   ]
  },
  {
   "cell_type": "code",
   "execution_count": 22,
   "metadata": {},
   "outputs": [
    {
     "data": {
      "text/plain": [
       "[0, 1, 4, 9, 16, 25, 36, 49, 64, 81]"
      ]
     },
     "execution_count": 22,
     "metadata": {},
     "output_type": "execute_result"
    }
   ],
   "source": [
    "sorted(random_list)"
   ]
  },
  {
   "cell_type": "code",
   "execution_count": 23,
   "metadata": {},
   "outputs": [
    {
     "data": {
      "text/plain": [
       "['Black Widow',\n",
       " 'Captian America',\n",
       " 'Clint Barton',\n",
       " 'Hulk',\n",
       " 'Iron Man',\n",
       " 'Loki',\n",
       " 'Nick Fury',\n",
       " 'Thor']"
      ]
     },
     "execution_count": 23,
     "metadata": {},
     "output_type": "execute_result"
    }
   ],
   "source": [
    "sorted(avengers)"
   ]
  },
  {
   "cell_type": "code",
   "execution_count": null,
   "metadata": {},
   "outputs": [],
   "source": []
  }
 ],
 "metadata": {
  "kernelspec": {
   "display_name": "Python 3",
   "language": "python",
   "name": "python3"
  },
  "language_info": {
   "codemirror_mode": {
    "name": "ipython",
    "version": 3
   },
   "file_extension": ".py",
   "mimetype": "text/x-python",
   "name": "python",
   "nbconvert_exporter": "python",
   "pygments_lexer": "ipython3",
   "version": "3.6.9"
  }
 },
 "nbformat": 4,
 "nbformat_minor": 4
}
